{
  "cells": [
    {
      "cell_type": "code",
      "execution_count": null,
      "metadata": {
        "id": "AGh8kCzRba80",
        "colab": {
          "base_uri": "https://localhost:8080/"
        },
        "outputId": "94377ac2-d849-479d-a9c2-28df1c4f6149"
      },
      "outputs": [
        {
          "output_type": "stream",
          "name": "stdout",
          "text": [
            "\u001b[2K   \u001b[90m━━━━━━━━━━━━━━━━━━━━━━━━━━━━━━━━━━━━━━━━\u001b[0m \u001b[32m2.6/2.6 MB\u001b[0m \u001b[31m10.8 MB/s\u001b[0m eta \u001b[36m0:00:00\u001b[0m\n",
            "\u001b[2K   \u001b[90m━━━━━━━━━━━━━━━━━━━━━━━━━━━━━━━━━━━━━━━━\u001b[0m \u001b[32m159.6/159.6 kB\u001b[0m \u001b[31m9.1 MB/s\u001b[0m eta \u001b[36m0:00:00\u001b[0m\n",
            "\u001b[?25h"
          ]
        }
      ],
      "source": [
        "!pip -q install lxml symspellpy"
      ]
    },
    {
      "cell_type": "code",
      "execution_count": null,
      "metadata": {
        "colab": {
          "base_uri": "https://localhost:8080/"
        },
        "id": "_7OkNON8bq_5",
        "outputId": "0f8ebe38-a9ff-436a-f62d-e5818d03fe63"
      },
      "outputs": [
        {
          "output_type": "stream",
          "name": "stdout",
          "text": [
            "Base: /content/mesh_build\n"
          ]
        }
      ],
      "source": [
        "BASE = \"/content/mesh_build\"\n",
        "DICT_DIR = f\"{BASE}/dicts\"\n",
        "TOOLS_DIR = f\"{BASE}/tools\"\n",
        "\n",
        "import os, pathlib\n",
        "pathlib.Path(DICT_DIR).mkdir(parents=True, exist_ok=True)\n",
        "pathlib.Path(TOOLS_DIR).mkdir(parents=True, exist_ok=True)\n",
        "\n",
        "print(\"Base:\", BASE)\n"
      ]
    },
    {
      "cell_type": "code",
      "execution_count": null,
      "metadata": {
        "colab": {
          "base_uri": "https://localhost:8080/",
          "height": 90
        },
        "id": "n4XzWKqHbtaw",
        "outputId": "591f949b-5b56-4800-a8a2-0799d4a5d0de"
      },
      "outputs": [
        {
          "output_type": "display_data",
          "data": {
            "text/plain": [
              "<IPython.core.display.HTML object>"
            ],
            "text/html": [
              "\n",
              "     <input type=\"file\" id=\"files-a78c39a8-5d5b-47d2-82d9-ea5c5d80b4fd\" name=\"files[]\" multiple disabled\n",
              "        style=\"border:none\" />\n",
              "     <output id=\"result-a78c39a8-5d5b-47d2-82d9-ea5c5d80b4fd\">\n",
              "      Upload widget is only available when the cell has been executed in the\n",
              "      current browser session. Please rerun this cell to enable.\n",
              "      </output>\n",
              "      <script>// Copyright 2017 Google LLC\n",
              "//\n",
              "// Licensed under the Apache License, Version 2.0 (the \"License\");\n",
              "// you may not use this file except in compliance with the License.\n",
              "// You may obtain a copy of the License at\n",
              "//\n",
              "//      http://www.apache.org/licenses/LICENSE-2.0\n",
              "//\n",
              "// Unless required by applicable law or agreed to in writing, software\n",
              "// distributed under the License is distributed on an \"AS IS\" BASIS,\n",
              "// WITHOUT WARRANTIES OR CONDITIONS OF ANY KIND, either express or implied.\n",
              "// See the License for the specific language governing permissions and\n",
              "// limitations under the License.\n",
              "\n",
              "/**\n",
              " * @fileoverview Helpers for google.colab Python module.\n",
              " */\n",
              "(function(scope) {\n",
              "function span(text, styleAttributes = {}) {\n",
              "  const element = document.createElement('span');\n",
              "  element.textContent = text;\n",
              "  for (const key of Object.keys(styleAttributes)) {\n",
              "    element.style[key] = styleAttributes[key];\n",
              "  }\n",
              "  return element;\n",
              "}\n",
              "\n",
              "// Max number of bytes which will be uploaded at a time.\n",
              "const MAX_PAYLOAD_SIZE = 100 * 1024;\n",
              "\n",
              "function _uploadFiles(inputId, outputId) {\n",
              "  const steps = uploadFilesStep(inputId, outputId);\n",
              "  const outputElement = document.getElementById(outputId);\n",
              "  // Cache steps on the outputElement to make it available for the next call\n",
              "  // to uploadFilesContinue from Python.\n",
              "  outputElement.steps = steps;\n",
              "\n",
              "  return _uploadFilesContinue(outputId);\n",
              "}\n",
              "\n",
              "// This is roughly an async generator (not supported in the browser yet),\n",
              "// where there are multiple asynchronous steps and the Python side is going\n",
              "// to poll for completion of each step.\n",
              "// This uses a Promise to block the python side on completion of each step,\n",
              "// then passes the result of the previous step as the input to the next step.\n",
              "function _uploadFilesContinue(outputId) {\n",
              "  const outputElement = document.getElementById(outputId);\n",
              "  const steps = outputElement.steps;\n",
              "\n",
              "  const next = steps.next(outputElement.lastPromiseValue);\n",
              "  return Promise.resolve(next.value.promise).then((value) => {\n",
              "    // Cache the last promise value to make it available to the next\n",
              "    // step of the generator.\n",
              "    outputElement.lastPromiseValue = value;\n",
              "    return next.value.response;\n",
              "  });\n",
              "}\n",
              "\n",
              "/**\n",
              " * Generator function which is called between each async step of the upload\n",
              " * process.\n",
              " * @param {string} inputId Element ID of the input file picker element.\n",
              " * @param {string} outputId Element ID of the output display.\n",
              " * @return {!Iterable<!Object>} Iterable of next steps.\n",
              " */\n",
              "function* uploadFilesStep(inputId, outputId) {\n",
              "  const inputElement = document.getElementById(inputId);\n",
              "  inputElement.disabled = false;\n",
              "\n",
              "  const outputElement = document.getElementById(outputId);\n",
              "  outputElement.innerHTML = '';\n",
              "\n",
              "  const pickedPromise = new Promise((resolve) => {\n",
              "    inputElement.addEventListener('change', (e) => {\n",
              "      resolve(e.target.files);\n",
              "    });\n",
              "  });\n",
              "\n",
              "  const cancel = document.createElement('button');\n",
              "  inputElement.parentElement.appendChild(cancel);\n",
              "  cancel.textContent = 'Cancel upload';\n",
              "  const cancelPromise = new Promise((resolve) => {\n",
              "    cancel.onclick = () => {\n",
              "      resolve(null);\n",
              "    };\n",
              "  });\n",
              "\n",
              "  // Wait for the user to pick the files.\n",
              "  const files = yield {\n",
              "    promise: Promise.race([pickedPromise, cancelPromise]),\n",
              "    response: {\n",
              "      action: 'starting',\n",
              "    }\n",
              "  };\n",
              "\n",
              "  cancel.remove();\n",
              "\n",
              "  // Disable the input element since further picks are not allowed.\n",
              "  inputElement.disabled = true;\n",
              "\n",
              "  if (!files) {\n",
              "    return {\n",
              "      response: {\n",
              "        action: 'complete',\n",
              "      }\n",
              "    };\n",
              "  }\n",
              "\n",
              "  for (const file of files) {\n",
              "    const li = document.createElement('li');\n",
              "    li.append(span(file.name, {fontWeight: 'bold'}));\n",
              "    li.append(span(\n",
              "        `(${file.type || 'n/a'}) - ${file.size} bytes, ` +\n",
              "        `last modified: ${\n",
              "            file.lastModifiedDate ? file.lastModifiedDate.toLocaleDateString() :\n",
              "                                    'n/a'} - `));\n",
              "    const percent = span('0% done');\n",
              "    li.appendChild(percent);\n",
              "\n",
              "    outputElement.appendChild(li);\n",
              "\n",
              "    const fileDataPromise = new Promise((resolve) => {\n",
              "      const reader = new FileReader();\n",
              "      reader.onload = (e) => {\n",
              "        resolve(e.target.result);\n",
              "      };\n",
              "      reader.readAsArrayBuffer(file);\n",
              "    });\n",
              "    // Wait for the data to be ready.\n",
              "    let fileData = yield {\n",
              "      promise: fileDataPromise,\n",
              "      response: {\n",
              "        action: 'continue',\n",
              "      }\n",
              "    };\n",
              "\n",
              "    // Use a chunked sending to avoid message size limits. See b/62115660.\n",
              "    let position = 0;\n",
              "    do {\n",
              "      const length = Math.min(fileData.byteLength - position, MAX_PAYLOAD_SIZE);\n",
              "      const chunk = new Uint8Array(fileData, position, length);\n",
              "      position += length;\n",
              "\n",
              "      const base64 = btoa(String.fromCharCode.apply(null, chunk));\n",
              "      yield {\n",
              "        response: {\n",
              "          action: 'append',\n",
              "          file: file.name,\n",
              "          data: base64,\n",
              "        },\n",
              "      };\n",
              "\n",
              "      let percentDone = fileData.byteLength === 0 ?\n",
              "          100 :\n",
              "          Math.round((position / fileData.byteLength) * 100);\n",
              "      percent.textContent = `${percentDone}% done`;\n",
              "\n",
              "    } while (position < fileData.byteLength);\n",
              "  }\n",
              "\n",
              "  // All done.\n",
              "  yield {\n",
              "    response: {\n",
              "      action: 'complete',\n",
              "    }\n",
              "  };\n",
              "}\n",
              "\n",
              "scope.google = scope.google || {};\n",
              "scope.google.colab = scope.google.colab || {};\n",
              "scope.google.colab._files = {\n",
              "  _uploadFiles,\n",
              "  _uploadFilesContinue,\n",
              "};\n",
              "})(self);\n",
              "</script> "
            ]
          },
          "metadata": {}
        },
        {
          "output_type": "stream",
          "name": "stdout",
          "text": [
            "Saving supp2026.xml to supp2026.xml\n",
            "Uploaded: ['supp2026.xml']\n"
          ]
        }
      ],
      "source": [
        "from google.colab import files, output\n",
        "uploaded = files.upload()  # choose descYYYY.xml and/or suppYYYY.xml (gz also ok)\n",
        "import shutil\n",
        "for name in uploaded.keys():\n",
        "    shutil.move(name, f\"{BASE}/{name}\")\n",
        "print(\"Uploaded:\", list(uploaded.keys()))\n"
      ]
    },
    {
      "cell_type": "code",
      "execution_count": null,
      "metadata": {
        "id": "cgqIOriebt1h",
        "colab": {
          "base_uri": "https://localhost:8080/"
        },
        "outputId": "37912000-f395-45e1-9bd2-bd8140f10720"
      },
      "outputs": [
        {
          "output_type": "stream",
          "name": "stdout",
          "text": [
            "Overwriting /content/mesh_build/tools/mesh_to_symspell.py\n"
          ]
        }
      ],
      "source": [
        "%%writefile {TOOLS_DIR}/mesh_to_symspell.py\n",
        "import argparse, os, re, csv, gzip\n",
        "from collections import Counter\n",
        "from lxml import etree\n",
        "\n",
        "TOKEN_RE = re.compile(r\"[A-Za-z][A-Za-z\\-]+\")  # allow hyphenated biomedical tokens\n",
        "\n",
        "def open_any(path):\n",
        "    return gzip.open(path, \"rb\") if path.endswith(\".gz\") else open(path, \"rb\")\n",
        "\n",
        "def parse_desc_terms(xml_path, add_phrase, add_token):\n",
        "    with open_any(xml_path) as f:\n",
        "        ctx = etree.iterparse(f, events=(\"end\",), tag=(\"DescriptorRecord\",))\n",
        "        for _, rec in ctx:\n",
        "            name_el = rec.find(\".//DescriptorName/String\")\n",
        "            if name_el is not None and name_el.text:\n",
        "                s = name_el.text.strip()\n",
        "                if s:\n",
        "                    add_phrase(s)\n",
        "                    for t in TOKEN_RE.findall(s):\n",
        "                        if len(t) >= 3: add_token(t.lower())\n",
        "            for term in rec.findall(\".//ConceptList/Concept/TermList/Term/String\"):\n",
        "                if term.text:\n",
        "                    s = term.text.strip()\n",
        "                    if s:\n",
        "                        add_phrase(s)\n",
        "                        for t in TOKEN_RE.findall(s):\n",
        "                            if len(t) >= 3: add_token(t.lower())\n",
        "            rec.clear()\n",
        "            while rec.getprevious() is not None:\n",
        "                del rec.getparent()[0]\n",
        "\n",
        "def parse_supp_terms(xml_path, add_phrase, add_token):\n",
        "    with open_any(xml_path) as f:\n",
        "        ctx = etree.iterparse(f, events=(\"end\",), tag=(\"SupplementalRecord\",))\n",
        "        for _, rec in ctx:\n",
        "            name_el = rec.find(\".//SupplementalRecordName/String\")\n",
        "            if name_el is not None and name_el.text:\n",
        "                s = name_el.text.strip()\n",
        "                if s:\n",
        "                    add_phrase(s)\n",
        "                    for t in TOKEN_RE.findall(s):\n",
        "                        if len(t) >= 3: add_token(t.lower())\n",
        "            for term in rec.findall(\".//ConceptList/Concept/TermList/Term/String\"):\n",
        "                if term.text:\n",
        "                    s = term.text.strip()\n",
        "                    if s:\n",
        "                        add_phrase(s)\n",
        "                        for t in TOKEN_RE.findall(s):\n",
        "                            if len(t) >= 3: add_token(t.lower())\n",
        "            rec.clear()\n",
        "            while rec.getprevious() is not None:\n",
        "                del rec.getparent()[0]\n",
        "\n",
        "def build(args):\n",
        "    os.makedirs(args.out_dir, exist_ok=True)\n",
        "    phrases = set()\n",
        "    counts = Counter()\n",
        "\n",
        "    def add_phrase(s): phrases.add(s)\n",
        "    def add_token(tok): counts[tok] += 1\n",
        "\n",
        "    # Parse each input file\n",
        "    for p in args.inputs:\n",
        "        lp = p.lower()\n",
        "        if \"supp\" in lp:\n",
        "            parse_supp_terms(p, add_phrase, add_token)\n",
        "        else:\n",
        "            parse_desc_terms(p, add_phrase, add_token)\n",
        "\n",
        "    # Optional filter to shrink vocabulary size (>=1 keeps everything)\n",
        "    min_count = max(1, int(args.min_count))\n",
        "    if min_count > 1:\n",
        "        counts = Counter({t:c for t,c in counts.items() if c >= min_count})\n",
        "\n",
        "    # Outputs\n",
        "    phrases_path = os.path.join(args.out_dir, \"mesh_phrases.txt\")\n",
        "    words_path   = os.path.join(args.out_dir, \"pubmed_words.txt\")\n",
        "    symspell_tsv = os.path.join(args.out_dir, \"medical_vocab.tsv\")\n",
        "\n",
        "    with open(phrases_path, \"w\", encoding=\"utf-8\") as f:\n",
        "        for s in sorted(phrases):\n",
        "            f.write(s + \"\\n\")\n",
        "    with open(words_path, \"w\", encoding=\"utf-8\") as f:\n",
        "        for w in sorted(counts):\n",
        "            f.write(w + \"\\n\")\n",
        "    with open(symspell_tsv, \"w\", encoding=\"utf-8\", newline=\"\") as f:\n",
        "        w = csv.writer(f, delimiter=\"\\t\")\n",
        "        for wtok, cnt in sorted(counts.items()):\n",
        "            w.writerow([wtok, max(int(cnt), 1)])\n",
        "\n",
        "    print(f\"✔ Phrases: {phrases_path}\")\n",
        "    print(f\"✔ Word list: {words_path}\")\n",
        "    print(f\"✔ SymSpell TSV: {symspell_tsv}\")\n",
        "    print(f\"Total unique tokens kept ≥{min_count}: {len(counts)}\")\n",
        "\n",
        "if __name__ == \"__main__\":\n",
        "    ap = argparse.ArgumentParser(description=\"Build SymSpell dictionary from MeSH XML files.\")\n",
        "    ap.add_argument(\"--inputs\", nargs=\"+\", required=True, help=\"Paths to descYYYY.xml / suppYYYY.xml\")\n",
        "    ap.add_argument(\"--out-dir\", default=\"dicts\", help=\"Output folder\")\n",
        "    ap.add_argument(\"--min-count\", default=\"1\", help=\"Keep tokens with frequency >= this\")\n",
        "    args = ap.parse_args()\n",
        "    build(args)"
      ]
    },
    {
      "cell_type": "code",
      "execution_count": null,
      "metadata": {
        "id": "n4Tb4yDqtgdl",
        "colab": {
          "base_uri": "https://localhost:8080/"
        },
        "outputId": "1c2d25e9-9109-482d-d1f3-6310fe005c42"
      },
      "outputs": [
        {
          "output_type": "stream",
          "name": "stdout",
          "text": [
            "Found: ['/content/mesh_build/supp2026.xml']\n",
            "✔ Phrases: /content/mesh_build/dicts/mesh_phrases.txt\n",
            "✔ Word list: /content/mesh_build/dicts/pubmed_words.txt\n",
            "✔ SymSpell TSV: /content/mesh_build/dicts/medical_vocab.tsv\n",
            "Total unique tokens kept ≥1: 322454\n"
          ]
        }
      ],
      "source": [
        "import glob, os, textwrap\n",
        "\n",
        "# Auto-pick any desc/supp files you uploaded into BASE\n",
        "all_mesh = sorted(glob.glob(f\"{BASE}/desc*.xml*\") + glob.glob(f\"{BASE}/supp*.xml*\"))\n",
        "print(\"Found:\", all_mesh)\n",
        "\n",
        "MIN_COUNT = \"1\"  # change to \"2\" or \"3\" to filter rare tokens\n",
        "\n",
        "# Build\n",
        "!python \"{TOOLS_DIR}/mesh_to_symspell.py\" \\\n",
        "  --inputs {\" \".join(all_mesh)} \\\n",
        "  --out-dir \"{DICT_DIR}\" \\\n",
        "  --min-count {MIN_COUNT}\n"
      ]
    },
    {
      "cell_type": "code",
      "execution_count": null,
      "metadata": {
        "id": "Jq0YsgKstgZ9",
        "colab": {
          "base_uri": "https://localhost:8080/"
        },
        "outputId": "f7796f67-3238-4b53-dd35-303bf1920dde"
      },
      "outputs": [
        {
          "output_type": "stream",
          "name": "stdout",
          "text": [
            "Added: mesh_phrases.txt\n",
            "Added: pubmed_words.txt\n",
            "Added: medical_vocab.tsv\n",
            "ZIP ready: /content/mesh_build/mesh_dicts.zip\n"
          ]
        }
      ],
      "source": [
        "import os, zipfile\n",
        "\n",
        "zip_path = f\"{BASE}/mesh_dicts.zip\"\n",
        "with zipfile.ZipFile(zip_path, \"w\", compression=zipfile.ZIP_DEFLATED) as z:\n",
        "    for fn in [\"mesh_phrases.txt\", \"pubmed_words.txt\", \"medical_vocab.tsv\"]:\n",
        "        fp = os.path.join(DICT_DIR, fn)\n",
        "        if os.path.exists(fp):\n",
        "            z.write(fp, arcname=fn)\n",
        "            print(\"Added:\", fn)\n",
        "\n",
        "print(\"ZIP ready:\", zip_path)\n"
      ]
    },
    {
      "cell_type": "code",
      "execution_count": null,
      "metadata": {
        "id": "X_tSApHYtgXZ",
        "colab": {
          "base_uri": "https://localhost:8080/",
          "height": 17
        },
        "outputId": "7d5b6846-b676-4978-905e-b47acc711ff5"
      },
      "outputs": [
        {
          "output_type": "display_data",
          "data": {
            "text/plain": [
              "<IPython.core.display.Javascript object>"
            ],
            "application/javascript": [
              "\n",
              "    async function download(id, filename, size) {\n",
              "      if (!google.colab.kernel.accessAllowed) {\n",
              "        return;\n",
              "      }\n",
              "      const div = document.createElement('div');\n",
              "      const label = document.createElement('label');\n",
              "      label.textContent = `Downloading \"${filename}\": `;\n",
              "      div.appendChild(label);\n",
              "      const progress = document.createElement('progress');\n",
              "      progress.max = size;\n",
              "      div.appendChild(progress);\n",
              "      document.body.appendChild(div);\n",
              "\n",
              "      const buffers = [];\n",
              "      let downloaded = 0;\n",
              "\n",
              "      const channel = await google.colab.kernel.comms.open(id);\n",
              "      // Send a message to notify the kernel that we're ready.\n",
              "      channel.send({})\n",
              "\n",
              "      for await (const message of channel.messages) {\n",
              "        // Send a message to notify the kernel that we're ready.\n",
              "        channel.send({})\n",
              "        if (message.buffers) {\n",
              "          for (const buffer of message.buffers) {\n",
              "            buffers.push(buffer);\n",
              "            downloaded += buffer.byteLength;\n",
              "            progress.value = downloaded;\n",
              "          }\n",
              "        }\n",
              "      }\n",
              "      const blob = new Blob(buffers, {type: 'application/binary'});\n",
              "      const a = document.createElement('a');\n",
              "      a.href = window.URL.createObjectURL(blob);\n",
              "      a.download = filename;\n",
              "      div.appendChild(a);\n",
              "      a.click();\n",
              "      div.remove();\n",
              "    }\n",
              "  "
            ]
          },
          "metadata": {}
        },
        {
          "output_type": "display_data",
          "data": {
            "text/plain": [
              "<IPython.core.display.Javascript object>"
            ],
            "application/javascript": [
              "download(\"download_f2ad9f8d-d9b6-4418-b960-a43dad7392e5\", \"mesh_dicts.zip\", 8001493)"
            ]
          },
          "metadata": {}
        }
      ],
      "source": [
        "from google.colab import files\n",
        "files.download(f\"{BASE}/mesh_dicts.zip\")\n"
      ]
    }
  ],
  "metadata": {
    "colab": {
      "provenance": []
    },
    "kernelspec": {
      "display_name": "Python 3",
      "name": "python3"
    },
    "language_info": {
      "name": "python"
    }
  },
  "nbformat": 4,
  "nbformat_minor": 0
}