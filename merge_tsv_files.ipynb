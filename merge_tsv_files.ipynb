{
  "nbformat": 4,
  "nbformat_minor": 0,
  "metadata": {
    "colab": {
      "provenance": []
    },
    "kernelspec": {
      "name": "python3",
      "display_name": "Python 3"
    },
    "language_info": {
      "name": "python"
    }
  },
  "cells": [
    {
      "cell_type": "code",
      "execution_count": 1,
      "metadata": {
        "id": "tVNZJVVXhUR8"
      },
      "outputs": [],
      "source": [
        "import csv, glob, os, zipfile\n",
        "from collections import Counter\n",
        "\n",
        "BASE = \"/content\"  # adjust if files are in another folder\n",
        "OUT_DIR = f\"{BASE}/merged\"\n",
        "os.makedirs(OUT_DIR, exist_ok=True)"
      ]
    },
    {
      "cell_type": "code",
      "source": [
        "# 1) Merge TSVs\n",
        "tsv_files = glob.glob(f\"{BASE}/medical_vocab_*.tsv\")\n",
        "counts = Counter()\n",
        "for path in tsv_files:\n",
        "    with open(path, \"r\", encoding=\"utf-8\") as f:\n",
        "        reader = csv.reader(f, delimiter=\"\\t\")\n",
        "        for row in reader:\n",
        "            if not row: continue\n",
        "            term, cnt = row[0], int(row[1]) if len(row) > 1 else 1\n",
        "            counts[term] += cnt\n",
        "\n",
        "merged_tsv = os.path.join(OUT_DIR, \"medical_vocab_all.tsv\")\n",
        "with open(merged_tsv, \"w\", encoding=\"utf-8\", newline=\"\") as f:\n",
        "    writer = csv.writer(f, delimiter=\"\\t\")\n",
        "    for term, cnt in sorted(counts.items()):\n",
        "        writer.writerow([term, cnt])\n",
        "\n",
        "print(f\"✔ Merged TSV written: {merged_tsv} ({len(counts)} unique terms)\")"
      ],
      "metadata": {
        "colab": {
          "base_uri": "https://localhost:8080/"
        },
        "id": "jQd5pAU7hdWG",
        "outputId": "7e559cf1-ca13-47a7-86f9-37f0af75bb4a"
      },
      "execution_count": 2,
      "outputs": [
        {
          "output_type": "stream",
          "name": "stdout",
          "text": [
            "✔ Merged TSV written: /content/merged/medical_vocab_all.tsv (371461 unique terms)\n"
          ]
        }
      ]
    },
    {
      "cell_type": "code",
      "source": [
        "# 2) Merge word lists\n",
        "word_files = glob.glob(f\"{BASE}/pubmed_words_*.txt\")\n",
        "all_words = set()\n",
        "for path in word_files:\n",
        "    with open(path, \"r\", encoding=\"utf-8\") as f:\n",
        "        for line in f:\n",
        "            all_words.add(line.strip().lower())\n",
        "\n",
        "merged_words = os.path.join(OUT_DIR, \"pubmed_words_all.txt\")\n",
        "with open(merged_words, \"w\", encoding=\"utf-8\") as f:\n",
        "    for w in sorted(all_words):\n",
        "        f.write(w + \"\\n\")\n",
        "\n",
        "print(f\"✔ Merged words written: {merged_words} ({len(all_words)} unique words)\")\n"
      ],
      "metadata": {
        "colab": {
          "base_uri": "https://localhost:8080/"
        },
        "id": "CUZhKMPPhx6B",
        "outputId": "23954174-07a0-49ef-c8fe-04571c71d88e"
      },
      "execution_count": 4,
      "outputs": [
        {
          "output_type": "stream",
          "name": "stdout",
          "text": [
            "✔ Merged words written: /content/merged/pubmed_words_all.txt (371461 unique words)\n"
          ]
        }
      ]
    },
    {
      "cell_type": "code",
      "source": [
        "# 3) Merge phrases\n",
        "phrase_files = glob.glob(f\"{BASE}/mesh_phrases_*\")\n",
        "all_phrases = set()\n",
        "for path in phrase_files:\n",
        "    with open(path, \"r\", encoding=\"utf-8\") as f:\n",
        "        for line in f:\n",
        "            all_phrases.add(line.strip())\n",
        "\n",
        "merged_phrases = os.path.join(OUT_DIR, \"mesh_phrases_all.txt\")\n",
        "with open(merged_phrases, \"w\", encoding=\"utf-8\") as f:\n",
        "    for p in sorted(all_phrases):\n",
        "        f.write(p + \"\\n\")\n",
        "\n",
        "print(f\"✔ Merged phrases written: {merged_phrases} ({len(all_phrases)} unique phrases)\")\n"
      ],
      "metadata": {
        "colab": {
          "base_uri": "https://localhost:8080/"
        },
        "id": "qot3tOJ_iEod",
        "outputId": "340f1f81-f305-4aff-a74d-6733ee51d80f"
      },
      "execution_count": 5,
      "outputs": [
        {
          "output_type": "stream",
          "name": "stdout",
          "text": [
            "✔ Merged phrases written: /content/merged/mesh_phrases_all.txt (994605 unique phrases)\n"
          ]
        }
      ]
    },
    {
      "cell_type": "code",
      "source": [
        "# 4) Zip outputs\n",
        "zip_path = f\"{OUT_DIR}/mesh_all.zip\"\n",
        "with zipfile.ZipFile(zip_path, \"w\", compression=zipfile.ZIP_DEFLATED) as z:\n",
        "    z.write(merged_tsv, arcname=\"medical_vocab_all.tsv\")\n",
        "    z.write(merged_words, arcname=\"pubmed_words_all.txt\")\n",
        "    z.write(merged_phrases, arcname=\"mesh_phrases_all.txt\")\n",
        "\n",
        "print(\"✔ Final ZIP ready:\", zip_path)"
      ],
      "metadata": {
        "colab": {
          "base_uri": "https://localhost:8080/"
        },
        "id": "76s3P-4HiHuh",
        "outputId": "812debef-23df-4679-a44f-9b1e90563590"
      },
      "execution_count": 6,
      "outputs": [
        {
          "output_type": "stream",
          "name": "stdout",
          "text": [
            "✔ Final ZIP ready: /content/merged/mesh_all.zip\n"
          ]
        }
      ]
    },
    {
      "cell_type": "code",
      "source": [
        "# 5) Download\n",
        "from google.colab import files\n",
        "files.download(zip_path)"
      ],
      "metadata": {
        "colab": {
          "base_uri": "https://localhost:8080/",
          "height": 17
        },
        "id": "p0DyAEpfiKhT",
        "outputId": "9399b4f3-f88a-41f8-8abf-6fb60f6d8010"
      },
      "execution_count": 7,
      "outputs": [
        {
          "output_type": "display_data",
          "data": {
            "text/plain": [
              "<IPython.core.display.Javascript object>"
            ],
            "application/javascript": [
              "\n",
              "    async function download(id, filename, size) {\n",
              "      if (!google.colab.kernel.accessAllowed) {\n",
              "        return;\n",
              "      }\n",
              "      const div = document.createElement('div');\n",
              "      const label = document.createElement('label');\n",
              "      label.textContent = `Downloading \"${filename}\": `;\n",
              "      div.appendChild(label);\n",
              "      const progress = document.createElement('progress');\n",
              "      progress.max = size;\n",
              "      div.appendChild(progress);\n",
              "      document.body.appendChild(div);\n",
              "\n",
              "      const buffers = [];\n",
              "      let downloaded = 0;\n",
              "\n",
              "      const channel = await google.colab.kernel.comms.open(id);\n",
              "      // Send a message to notify the kernel that we're ready.\n",
              "      channel.send({})\n",
              "\n",
              "      for await (const message of channel.messages) {\n",
              "        // Send a message to notify the kernel that we're ready.\n",
              "        channel.send({})\n",
              "        if (message.buffers) {\n",
              "          for (const buffer of message.buffers) {\n",
              "            buffers.push(buffer);\n",
              "            downloaded += buffer.byteLength;\n",
              "            progress.value = downloaded;\n",
              "          }\n",
              "        }\n",
              "      }\n",
              "      const blob = new Blob(buffers, {type: 'application/binary'});\n",
              "      const a = document.createElement('a');\n",
              "      a.href = window.URL.createObjectURL(blob);\n",
              "      a.download = filename;\n",
              "      div.appendChild(a);\n",
              "      a.click();\n",
              "      div.remove();\n",
              "    }\n",
              "  "
            ]
          },
          "metadata": {}
        },
        {
          "output_type": "display_data",
          "data": {
            "text/plain": [
              "<IPython.core.display.Javascript object>"
            ],
            "application/javascript": [
              "download(\"download_ebcbf4dd-ceca-415c-9747-9cb37352a881\", \"mesh_all.zip\", 9791363)"
            ]
          },
          "metadata": {}
        }
      ]
    }
  ]
}